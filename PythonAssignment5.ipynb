{
  "nbformat": 4,
  "nbformat_minor": 0,
  "metadata": {
    "colab": {
      "name": "PythonAssignment5.ipynb",
      "provenance": []
    },
    "kernelspec": {
      "name": "python3",
      "display_name": "Python 3"
    }
  },
  "cells": [
    {
      "cell_type": "markdown",
      "metadata": {
        "id": "N6EY3BgoVpWv",
        "colab_type": "text"
      },
      "source": [
        "1. Write a function to compute 5/0 and use try/except to catch the exceptions."
      ]
    },
    {
      "cell_type": "code",
      "metadata": {
        "id": "VPaeGEO2Vsed",
        "colab_type": "code",
        "colab": {
          "base_uri": "https://localhost:8080/",
          "height": 68
        },
        "outputId": "8bc93d86-9b7d-40b7-968c-220abc77aff5"
      },
      "source": [
        "def check():\n",
        "  try:\n",
        "    a=int(input())\n",
        "    b=int(input())\n",
        "    c=a/b\n",
        "    print(c)\n",
        "  except Exception as e:\n",
        "    print(\"error is : \",e)\n",
        "\n",
        "check()"
      ],
      "execution_count": null,
      "outputs": [
        {
          "output_type": "stream",
          "text": [
            "5\n",
            "0\n",
            "error is :  division by zero\n"
          ],
          "name": "stdout"
        }
      ]
    },
    {
      "cell_type": "markdown",
      "metadata": {
        "id": "8z2pnmyUWe9o",
        "colab_type": "text"
      },
      "source": [
        "2. Implement a Python program to generate all sentences where subject is in [\"Americans\", \"Indians\"] and verb is in [\"Play\", \"watch\"] and the object is in\n",
        "[\"Baseball\",\"cricket\"].   \n",
        "   \n",
        "Hint: Subject,Verb and Object should be declared in the program as shown below.   \n",
        "   \n",
        "subjects=[\"Americans \",\"Indians\"]   \n",
        "verbs=[\"play\",\"watch\"]   \n",
        "objects=[\"Baseball\",\"Cricket\"]    \n",
        "    \n",
        "Output should come as below:   \n",
        "Americans play Baseball.   \n",
        "Americans play Cricket.    \n",
        "Americans watch Baseball.    \n",
        "Americans watch Cricket.    \n",
        "Indians play Baseball.    \n",
        "Indians play Cricket.    \n",
        "Indians watch Baseball.    \n",
        "Indians watch Cricket.    "
      ]
    },
    {
      "cell_type": "code",
      "metadata": {
        "id": "wRrTHMEyWC2V",
        "colab_type": "code",
        "colab": {
          "base_uri": "https://localhost:8080/",
          "height": 153
        },
        "outputId": "8e368fab-04bf-4752-a3d2-054fd37b84d1"
      },
      "source": [
        "subjects=[\"Americans \",\"Indians\"]\n",
        "verbs=[\"play\",\"watch\"]\n",
        "objects=[\"Baseball\",\"Cricket\"]\n",
        "\n",
        "sentences=[(i+\" \"+j+\" \"+k) for i in subjects for j in verbs for k in objects]\n",
        "for i in sentences:\n",
        "  print(i)"
      ],
      "execution_count": null,
      "outputs": [
        {
          "output_type": "stream",
          "text": [
            "Americans  play Baseball\n",
            "Americans  play Cricket\n",
            "Americans  watch Baseball\n",
            "Americans  watch Cricket\n",
            "Indians play Baseball\n",
            "Indians play Cricket\n",
            "Indians watch Baseball\n",
            "Indians watch Cricket\n"
          ],
          "name": "stdout"
        }
      ]
    }
  ]
}